{
 "cells": [
  {
   "cell_type": "code",
   "execution_count": null,
   "id": "6244863d-86e5-4b43-8078-f8074e1f0af5",
   "metadata": {},
   "outputs": [],
   "source": [
    "################################## KENNETH EKPETERE #################################\n",
    "################################# PMP IMPLEMENTATION ###############################\n",
    "##################################### (C) 2024  ########################################"
   ]
  },
  {
   "cell_type": "code",
   "execution_count": 2,
   "id": "353556f1-620f-4190-9fc8-d86a1b834192",
   "metadata": {},
   "outputs": [],
   "source": [
    "import time\n",
    "import pandas as pd\n",
    "import numpy as np\n",
    "import sys\n",
    "from datetime import date\n",
    "from datetime import datetime, timedelta\n",
    "import math\n",
    "import statistics\n",
    "from math import exp\n",
    "from scipy.stats import tmean, tstd"
   ]
  },
  {
   "cell_type": "markdown",
   "id": "02a506a9-2c06-4fed-9aea-7ffa465b005f",
   "metadata": {},
   "source": [
    "#### **HERSHFIELD PMP**"
   ]
  },
  {
   "cell_type": "code",
   "execution_count": 3,
   "id": "01dbdec0-3fa7-482b-8289-9a120c8bfdf6",
   "metadata": {},
   "outputs": [
    {
     "name": "stdout",
     "output_type": "stream",
     "text": [
      "pre_HPMP calculations completed\n"
     ]
    }
   ],
   "source": [
    "# Manage files\n",
    "input_file = \"stn_max.csv\"\n",
    "output_file = \"PMP_Output.csv\"\n",
    "\n",
    "data = pd.read_csv(input_file, float_precision='round_trip')\n",
    "\n",
    "# Group data by unique ID\n",
    "grouped = data.groupby('ID')\n",
    "\n",
    "# Initialize empty list to hold DataFrame chunks (we need this to store the output values)\n",
    "output_chunks = []\n",
    "\n",
    "# Loop through each group\n",
    "for name, group in grouped:\n",
    "    # Compute maximum value for each column\n",
    "    max_pre = group[['pre30m', 'pre1h', 'pre2h', 'pre3h', 'pre6h', 'pre12h', 'pre24h', 'pre48h', 'pre72h']].max()\n",
    "    \n",
    "    # Compute mean for each column\n",
    "    mean_pre = group[['pre30m', 'pre1h', 'pre2h', 'pre3h', 'pre6h', 'pre12h', 'pre24h', 'pre48h', 'pre72h']].mean()\n",
    "    \n",
    "    # Compute standard deviation for each column\n",
    "    std_pre = group[['pre30m', 'pre1h', 'pre2h', 'pre3h', 'pre6h', 'pre12h', 'pre24h', 'pre48h', 'pre72h']].std()\n",
    "    \n",
    "    # Compute trimmed mean for each column\n",
    "    trimmed_mean = group[['pre30m', 'pre1h', 'pre2h', 'pre3h', 'pre6h', 'pre12h', 'pre24h', 'pre48h', 'pre72h']].apply(lambda x: np.mean(np.sort(x)[:-1]))\n",
    "    \n",
    "    # Compute trimmed standard deviation for each column\n",
    "    trimmed_std = group[['pre30m', 'pre1h', 'pre2h', 'pre3h', 'pre6h', 'pre12h', 'pre24h', 'pre48h', 'pre72h']].apply(lambda x: np.std(np.sort(x)[:-1], ddof=1))\n",
    "    \n",
    "    # Compute frequency factor for each column\n",
    "    freqfact = ((max_pre - trimmed_mean) / trimmed_std)\n",
    "    \n",
    "    # Compute HPMP for each column\n",
    "    HPMP = mean_pre + (freqfact * std_pre)\n",
    "    \n",
    "    # Create DataFrame chunk for this group\n",
    "    output_chunk = pd.DataFrame({\n",
    "        'ID': name,\n",
    "        'pre_HPMP30m': HPMP['pre30m'],\n",
    "        'pre_HPMP1h': HPMP['pre1h'],\n",
    "        'pre_HPMP2h': HPMP['pre2h'],\n",
    "        'pre_HPMP3h': HPMP['pre3h'],\n",
    "        'pre_HPMP6h': HPMP['pre6h'],\n",
    "        'pre_HPMP12h': HPMP['pre12h'],\n",
    "        'pre_HPMP24h': HPMP['pre24h'],\n",
    "        'pre_HPMP48h': HPMP['pre48h'],\n",
    "        'pre_HPMP72h': HPMP['pre72h']\n",
    "    }, index=[0])  # Ensure each chunk has only one row\n",
    "    \n",
    "    # Append chunk to list\n",
    "    output_chunks.append(output_chunk)\n",
    "\n",
    "# Concatenate all chunks into final DataFrame\n",
    "output_data = pd.concat(output_chunks, ignore_index=True)\n",
    "\n",
    "# Write output DataFrame to CSV\n",
    "output_data.to_csv(output_file, index=False)\n",
    "print(\"PMP calculations completed\")\n"
   ]
  },
  {
   "cell_type": "code",
   "execution_count": null,
   "id": "f3bbeee0-21fa-45b1-a55f-57f66e756cb1",
   "metadata": {},
   "outputs": [],
   "source": []
  }
 ],
 "metadata": {
  "kernelspec": {
   "display_name": "Python 3 (ipykernel)",
   "language": "python",
   "name": "python3"
  },
  "language_info": {
   "codemirror_mode": {
    "name": "ipython",
    "version": 3
   },
   "file_extension": ".py",
   "mimetype": "text/x-python",
   "name": "python",
   "nbconvert_exporter": "python",
   "pygments_lexer": "ipython3",
   "version": "3.8.5"
  }
 },
 "nbformat": 4,
 "nbformat_minor": 5
}
