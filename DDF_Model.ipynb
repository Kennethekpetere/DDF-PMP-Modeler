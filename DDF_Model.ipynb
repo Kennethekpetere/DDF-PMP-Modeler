{
 "cells": [
  {
   "cell_type": "code",
   "execution_count": null,
   "id": "eb08bca3-74f0-46e6-92c4-b93f23983cf8",
   "metadata": {},
   "outputs": [],
   "source": [
    "################################## KENNETH EKPETERE ####################################\n",
    "############################## DDF/IDF (GUMBEL) IMPLEMENTATION #########################\n",
    "##################################### (C) 2024  ########################################"
   ]
  },
  {
   "cell_type": "code",
   "execution_count": 1,
   "id": "f1e8a9a2-8941-4b10-a133-7670a7621833",
   "metadata": {},
   "outputs": [],
   "source": [
    "import time\n",
    "import pandas as pd\n",
    "import numpy as np\n",
    "import sys\n",
    "from datetime import date\n",
    "from datetime import datetime, timedelta\n",
    "import math\n",
    "import statistics\n",
    "from math import exp\n",
    "from scipy.stats import tmean, tstd"
   ]
  },
  {
   "cell_type": "markdown",
   "id": "858c89e3-705b-4d2f-b423-d26d85b30c0e",
   "metadata": {},
   "source": [
    "#### **GUMBEL DDF**"
   ]
  },
  {
   "cell_type": "code",
   "execution_count": 3,
   "id": "23f09ec5-fcd9-4e56-9b6d-e6b4731b9bf0",
   "metadata": {},
   "outputs": [
    {
     "name": "stdout",
     "output_type": "stream",
     "text": [
      "DDF calculations saved to DDF_Output.csv\n"
     ]
    }
   ],
   "source": [
    "\n",
    "# Define the return periods and corresponding multipliers\n",
    "return_periods = {\n",
    "    1: -1.133,\n",
    "    2: -0.164,\n",
    "    5: 0.720,\n",
    "    10: 1.305,\n",
    "    22: 1.943,\n",
    "    25: 2.045,\n",
    "    50: 2.594,\n",
    "    100: 3.138,\n",
    "    200: 3.681,\n",
    "    500: 4.397,\n",
    "    1000: 4.938\n",
    "}\n",
    "\n",
    "# Read the input CSV file\n",
    "input_file = 'stn_max.csv'\n",
    "data = pd.read_csv(input_file)\n",
    "\n",
    "# List of precipitation columns\n",
    "precipitation_columns = [\"pre30m\", \"pre1h\", \"pre2h\", \"pre3h\", \"pre6h\", \"pre12h\", \"pre24h\", \"pre48h\", \"pre72h\"]\n",
    "\n",
    "# Initialize an empty list to store the result\n",
    "results = []\n",
    "\n",
    "# Process each unique ID\n",
    "for unique_id in data[\"ID\"].unique():\n",
    "    subset = data[data[\"ID\"] == unique_id]\n",
    "    \n",
    "    # Calculate mean and standard deviation for the precipitation columns\n",
    "    mean_pre = subset[precipitation_columns].mean()\n",
    "    std_pre = subset[precipitation_columns].std()\n",
    "    \n",
    "    # Calculate DDF values for each return period\n",
    "    for rp, multiplier in return_periods.items():\n",
    "        DDF_values = mean_pre + (std_pre * multiplier)\n",
    "        results.append([unique_id, rp] + DDF_values.tolist())\n",
    "\n",
    "# Create a DataFrame from the results\n",
    "columns = [\"ID\", \"RT\"] + [\"DDF\" + col[3:] for col in precipitation_columns]\n",
    "results_df = pd.DataFrame(results, columns=columns)\n",
    "\n",
    "# Save the result to an output CSV file\n",
    "output_file = 'DDF_Output.csv'\n",
    "results_df.to_csv(output_file, index=False)\n",
    "\n",
    "print(f\"DDF calculations saved to {output_file}\")\n"
   ]
  },
  {
   "cell_type": "code",
   "execution_count": null,
   "id": "18fd283c-ad25-4133-8753-c6e96152019f",
   "metadata": {},
   "outputs": [],
   "source": []
  }
 ],
 "metadata": {
  "kernelspec": {
   "display_name": "Python 3 (ipykernel)",
   "language": "python",
   "name": "python3"
  },
  "language_info": {
   "codemirror_mode": {
    "name": "ipython",
    "version": 3
   },
   "file_extension": ".py",
   "mimetype": "text/x-python",
   "name": "python",
   "nbconvert_exporter": "python",
   "pygments_lexer": "ipython3",
   "version": "3.8.5"
  }
 },
 "nbformat": 4,
 "nbformat_minor": 5
}
